{
  "nbformat": 4,
  "nbformat_minor": 0,
  "metadata": {
    "colab": {
      "name": "LxN Model Architecture.ipynb",
      "provenance": [],
      "authorship_tag": "ABX9TyOlNqH1EUr7pYxT46Sqf9Gm",
      "include_colab_link": true
    },
    "kernelspec": {
      "name": "python3",
      "display_name": "Python 3"
    }
  },
  "cells": [
    {
      "cell_type": "markdown",
      "metadata": {
        "id": "view-in-github",
        "colab_type": "text"
      },
      "source": [
        "<a href=\"https://colab.research.google.com/github/Lungs-X-Ray-Neural-Network/LxN__Lungs-X-Ray-Neural-Network-Model/blob/master/LxN_Model_Architecture.ipynb\" target=\"_parent\"><img src=\"https://colab.research.google.com/assets/colab-badge.svg\" alt=\"Open In Colab\"/></a>"
      ]
    },
    {
      "cell_type": "code",
      "metadata": {
        "id": "Gs4BQaBsMic_",
        "colab_type": "code",
        "colab": {}
      },
      "source": [
        "# Complete Code will be provided in the same repository after paper publishing \n",
        "\n",
        "lxn.add(layers.Conv2D(32,(3,3), activation='relu' , input_shape = (200,200,3)))\n",
        "lxn.add(layers.Conv2D(32,(3,3), activation='relu'))\n",
        "lxn.add(layers.MaxPooling2D((2, 2)))\n",
        "lxn.add(layers.Conv2D(64, (3, 3), activation='relu'))\n",
        "lxn.add(layers.Conv2D(64, (3, 3), activation='relu'))\n",
        "lxn.add(layers.MaxPooling2D((2, 2)))\n",
        "lxn.add(layers.Conv2D(128, (3, 3), activation='relu'))\n",
        "lxn.add(layers.Conv2D(128, (3, 3), activation='relu'))\n",
        "lxn.add(layers.MaxPooling2D((2, 2)))\n",
        "lxn.add(layers.Conv2D(256, (3, 3), activation='relu'))\n",
        "lxn.add(layers.Conv2D(256, (3, 3), activation='relu'))\n",
        "lxn.add(layers.MaxPooling2D((2, 2)))\n",
        "lxn.add(layers.Flatten())\n",
        "lxn.add(layers.Dense(512, activation='relu'))\n",
        "lxn.add(layers.Dense(1, activation='sigmoid'))\n"
      ],
      "execution_count": null,
      "outputs": []
    }
  ]
}